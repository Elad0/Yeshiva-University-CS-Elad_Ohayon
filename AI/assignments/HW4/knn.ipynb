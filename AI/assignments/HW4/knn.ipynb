{
 "cells": [
  {
   "cell_type": "markdown",
   "id": "cef7a8f7-ea86-433e-9c5b-5c4666f0d145",
   "metadata": {},
   "source": [
    "\n",
    "Import the libraries math (for square root and absolute value) and pandas and numpy for reading csv files."
   ]
  },
  {
   "cell_type": "code",
   "execution_count": 1,
   "id": "2e2378bc-2953-4c4e-af8f-861e20fed025",
   "metadata": {},
   "outputs": [],
   "source": [
    "import math\n",
    "import pandas as pd\n",
    "import numpy as np"
   ]
  },
  {
   "cell_type": "markdown",
   "id": "9dc6b6b6-f033-4f8c-8811-cc912381cffa",
   "metadata": {},
   "source": [
    "Make an untagged vector, point, and two tagged vectors, data1 and data2:"
   ]
  },
  {
   "cell_type": "code",
   "execution_count": 2,
   "id": "24bf37a8-5fe7-4f18-9cef-36cb479eeb66",
   "metadata": {},
   "outputs": [],
   "source": [
    "point = [1, 0, 0, '?'] #(an unknown tag)\n",
    "data1 = [1, 1, 1, 'M']\n",
    "data2 = [1, 3, 0, 'F']"
   ]
  },
  {
   "cell_type": "markdown",
   "id": "74839f71-f672-4969-8ba9-9d5b19a8d354",
   "metadata": {},
   "source": [
    "Write code to separate the data (X) from the tag (Y). Your output should be:\r\n",
    "\r\n",
    "The vector [1, 1, 1] has tag M\r\n",
    "\r\n",
    "The vector [1, 3, 0] has tag F"
   ]
  },
  {
   "cell_type": "code",
   "execution_count": 3,
   "id": "2f195edd-5938-4c2e-ab15-50e475b46d45",
   "metadata": {
    "scrolled": true
   },
   "outputs": [
    {
     "name": "stdout",
     "output_type": "stream",
     "text": [
      "The vector  [1, 1, 1]  has tag  M\n",
      "The vector  [1, 3, 0]  has tag  F\n"
     ]
    }
   ],
   "source": [
    "print(\"The vector \" , data1[0:-1], \" has tag \", data1[-1])\n",
    "print(\"The vector \" , data2[0:-1], \" has tag \", data2[-1]) #Print the data for vector 2"
   ]
  },
  {
   "cell_type": "markdown",
   "id": "bcff7706-9434-44db-9f5e-44a41538fe26",
   "metadata": {},
   "source": [
    "Now let's classify the point as either M or F. We'll do this by setting k = 1 and using the Euclidean distance. We'll define that as:"
   ]
  },
  {
   "cell_type": "code",
   "execution_count": 4,
   "id": "e1c249ec-0136-4644-85f6-a1bd7c1a272a",
   "metadata": {},
   "outputs": [],
   "source": [
    "def euclideanDistance(instance1, instance2, length):\n",
    "   distance = 0\n",
    "   for x in range(length):\n",
    "         #print ('x is ' , x)\n",
    "         num1=float(instance1[x])\n",
    "         num2=float(instance2[x])\n",
    "         distance = distance + pow(num1-num2, 2)\n",
    "   return math.sqrt(distance)"
   ]
  },
  {
   "cell_type": "markdown",
   "id": "d7630667-5740-4b81-932c-e8e558c03a68",
   "metadata": {},
   "source": [
    "Now, find out the distance between data1 and point and data2 and point. Output what the tag should be using euclideanDistance."
   ]
  },
  {
   "cell_type": "code",
   "execution_count": 5,
   "id": "330a931c-b272-4031-bda8-f052c0331a35",
   "metadata": {
    "scrolled": true
   },
   "outputs": [
    {
     "name": "stdout",
     "output_type": "stream",
     "text": [
      "1.4142135623730951\n"
     ]
    }
   ],
   "source": [
    "print(euclideanDistance(data1,point,3))"
   ]
  },
  {
   "cell_type": "code",
   "execution_count": 6,
   "id": "266c863c-17d2-42fd-81a1-fe6c2d0131b3",
   "metadata": {},
   "outputs": [
    {
     "name": "stderr",
     "output_type": "stream",
     "text": [
      "C:\\Users\\eohay\\AppData\\Local\\Temp\\ipykernel_14256\\1700079168.py:2: FutureWarning: The error_bad_lines argument has been deprecated and will be removed in a future version. Use on_bad_lines in the future.\n",
      "\n",
      "\n",
      "  df=pd.read_csv(url,  header=0, error_bad_lines=False)\n"
     ]
    }
   ],
   "source": [
    "url = 'https://github.com/rosenfa/ai/blob/master/myFile.csv?raw=true'\n",
    "df=pd.read_csv(url,  header=0, error_bad_lines=False)\n",
    "#put data in dataset without header line\n",
    "dataset = np.array(df)"
   ]
  },
  {
   "cell_type": "markdown",
   "id": "80031a8f-ad67-42e2-9dff-735c65b910df",
   "metadata": {},
   "source": [
    "Show that you understand what you read by:\n",
    "\n",
    "Printing the first two vectors in the file\n",
    "Printing the Euclidean distance between those two vectors\n",
    "Here is some code which I think might help get you on your way!"
   ]
  },
  {
   "cell_type": "code",
   "execution_count": 7,
   "id": "5f4724f9-e121-4105-be7e-ff915c15703f",
   "metadata": {},
   "outputs": [
    {
     "name": "stdout",
     "output_type": "stream",
     "text": [
      "10\n",
      "5.744562646538029\n"
     ]
    }
   ],
   "source": [
    "print(len(dataset))\n",
    "print(euclideanDistance(dataset[0],dataset[1],3))"
   ]
  },
  {
   "cell_type": "markdown",
   "id": "da09da12-09c5-4e9b-a7bf-c0882b117e5c",
   "metadata": {},
   "source": [
    "Now assume you have a new value for point:\n",
    "\n",
    "[0,0,100]\n",
    "\n",
    "How would you classify this vector using the Euclidean distance function given all of the vectors in the file?\n",
    "\n",
    "In order to help here is a hint:\n",
    "\n",
    "We suggest defining some type of data structure to store different vectors' distances and their tags like this:"
   ]
  },
  {
   "cell_type": "code",
   "execution_count": 8,
   "id": "af07e543-5e00-47b4-82f4-e22d691b1996",
   "metadata": {},
   "outputs": [],
   "source": [
    "point=[0,0,100]\n",
    "class distClass:\n",
    "    dist = -1 #distance of current point from test point\n",
    "    tag = '-' #tag of current point"
   ]
  },
  {
   "cell_type": "markdown",
   "id": "cc2eca8e-1309-416a-b92c-68d0d0f7f932",
   "metadata": {},
   "source": [
    "You can then add vector distances like this:"
   ]
  },
  {
   "cell_type": "code",
   "execution_count": 9,
   "id": "f38f4cb0-b163-4d2a-a45f-2d30c0c26b67",
   "metadata": {},
   "outputs": [],
   "source": [
    "def generate_euclidean_distances(point, data,p): #Generate the distances for this point with each vector in the dataset\n",
    "    distances = [] # list of distances, will hold objects of type distClass\n",
    "    for vector in data: # Loop through every single vector in database  \n",
    "        d=euclideanDistance(point,vector,len(vector)-1) # calculate the distance between the vector at database[i] and \"point\"\n",
    "        label=vector[-1] # Grab the label of the vector\n",
    "        if p==0:\n",
    "            print(\"The distances between \" , point , \" and \" , vector,  \" is \" , str(d))\n",
    "            print(\" and the label is \" + label)\n",
    "        obj = distClass() #one record's distance and tag\n",
    "        obj.dist=d\n",
    "        obj.tag=label\n",
    "        distances.append(obj)\n",
    "    distances.sort(key=lambda x: x.dist)\n",
    "    return distances"
   ]
  },
  {
   "cell_type": "code",
   "execution_count": 10,
   "id": "b1fdba0c-5a76-4bc9-a72b-791a98e1803f",
   "metadata": {},
   "outputs": [
    {
     "name": "stdout",
     "output_type": "stream",
     "text": [
      "The distances between  [0, 0, 100]  and  [0 1 2 'F']  is  98.00510190801293\n",
      " and the label is F\n",
      "The distances between  [0, 0, 100]  and  [1 5 6 'F']  is  94.13819628609845\n",
      " and the label is F\n",
      "The distances between  [0, 0, 100]  and  [1 40 1 'M']  is  106.78014796768171\n",
      " and the label is M\n",
      "The distances between  [0, 0, 100]  and  [2 2 2 'F']  is  98.04080783020915\n",
      " and the label is F\n",
      "The distances between  [0, 0, 100]  and  [0 1 20 'M']  is  80.00624975587844\n",
      " and the label is M\n",
      "The distances between  [0, 0, 100]  and  [1 5 6 'M']  is  94.13819628609845\n",
      " and the label is M\n",
      "The distances between  [0, 0, 100]  and  [1 4 1 'M']  is  99.08582138732059\n",
      " and the label is M\n",
      "The distances between  [0, 0, 100]  and  [2 22 2 'F']  is  100.45894683899488\n",
      " and the label is F\n",
      "The distances between  [0, 0, 100]  and  [2 23 2 'M']  is  100.68266980965493\n",
      " and the label is M\n",
      "The distances between  [0, 0, 100]  and  [2 24 2 'M']  is  100.91580649234291\n",
      " and the label is M\n"
     ]
    }
   ],
   "source": [
    "eucDistances=generate_euclidean_distances(point,dataset,0)"
   ]
  },
  {
   "cell_type": "markdown",
   "id": "a10e3451-05cd-4c5b-b69e-11d142b52d3d",
   "metadata": {},
   "source": [
    "Questions:\n",
    "\n",
    "What is the label for point if k=1?\n",
    "What is the label for point if k=3?\n",
    "Would the result be different if we used a different distance function like Hamming or Manhattan?"
   ]
  },
  {
   "cell_type": "code",
   "execution_count": 11,
   "id": "988c9ada-fcd2-4200-baf8-41660018173e",
   "metadata": {},
   "outputs": [],
   "source": [
    "def determine_tag(distances, k): #This value determines the tag of a point given a list of its distances with another point and\n",
    "                            # k determines how many neighbors we explore\n",
    "    tags={}\n",
    "    max_tag=\"\" #Keep track of the tag that appears the most\n",
    "    for x in range(k): #Check the k closest neighbors and store how many times we see each tag\n",
    "        obj=distances[x]\n",
    "        if obj.tag in tags: #If we have already encountered this tag increment it\n",
    "            tags[obj.tag]+=1\n",
    "        else: #else add the tag with a value of one\n",
    "             tags[obj.tag]=1 \n",
    "        max_tag = max_tag if tags.get(max_tag, 0) >= tags.get(obj.tag, 0) else obj.tag # check if the new tag is larger than max _tag and store the larger\n",
    "    return max_tag #return what the point is classified based on its k closest neighbors"
   ]
  },
  {
   "cell_type": "code",
   "execution_count": 12,
   "id": "1ef3e3cb-65d6-4cda-adf0-ccb35b4f9b6d",
   "metadata": {},
   "outputs": [
    {
     "name": "stdout",
     "output_type": "stream",
     "text": [
      "The label for point is M if k=1\n",
      "The label for point is M if k=3\n"
     ]
    }
   ],
   "source": [
    "print(f\"The label for point is {determine_tag(eucDistances,1)} if k=1\")\n",
    "print(f\"The label for point is {determine_tag(eucDistances,3)} if k=3\")"
   ]
  },
  {
   "cell_type": "code",
   "execution_count": 27,
   "id": "d5d98174-83d1-4585-853f-f61173dbb4d5",
   "metadata": {},
   "outputs": [],
   "source": [
    "#Add code with functions that implement Hamming and Manhattan distances and test\n",
    "#what the label will be for k=1 and k=3 for all possibilities\n",
    "#(6 total: 2 Euclidean, 2 Hamming and 2 Manhattan)\n",
    "\n",
    "def hamming_distance(instance1, instance2, length): #Hamming distance is just checking whether the values are the same and if not increment by 1\n",
    "   distance = 0\n",
    "   for x in range(length):\n",
    "         num1=float(instance1[x])\n",
    "         num2=float(instance2[x])\n",
    "         if num1!=num2:\n",
    "             distance+=1\n",
    "   return distance\n",
    "\n",
    "def manhattan_distance(instance1, instance2, length): #Manhattan distance is just summing |num1-num2| accross zipping(instance1,instance2)\n",
    "    distance = 0\n",
    "    for x in range(length):\n",
    "         num1=float(instance1[x])\n",
    "         num2=float(instance2[x])\n",
    "         distance+= abs(num1-num2)\n",
    "    return distance\n",
    "    "
   ]
  },
  {
   "cell_type": "code",
   "execution_count": 30,
   "id": "aa98e937-d45c-46d3-9275-e93134109009",
   "metadata": {},
   "outputs": [
    {
     "name": "stdout",
     "output_type": "stream",
     "text": [
      "Hamming distances\n",
      "[0, 0, 100]\n",
      "[0, 0, 100]\n",
      "[0, 0, 100]\n",
      "The distances between  [0, 0, 100]  and  [0 1 2 'F']  is  2\n",
      " and the label is F\n",
      "[0, 0, 100]\n",
      "[0, 0, 100]\n",
      "[0, 0, 100]\n",
      "The distances between  [0, 0, 100]  and  [1 5 6 'F']  is  3\n",
      " and the label is F\n",
      "[0, 0, 100]\n",
      "[0, 0, 100]\n",
      "[0, 0, 100]\n",
      "The distances between  [0, 0, 100]  and  [1 40 1 'M']  is  3\n",
      " and the label is M\n",
      "[0, 0, 100]\n",
      "[0, 0, 100]\n",
      "[0, 0, 100]\n",
      "The distances between  [0, 0, 100]  and  [2 2 2 'F']  is  3\n",
      " and the label is F\n",
      "[0, 0, 100]\n",
      "[0, 0, 100]\n",
      "[0, 0, 100]\n",
      "The distances between  [0, 0, 100]  and  [0 1 20 'M']  is  2\n",
      " and the label is M\n",
      "[0, 0, 100]\n",
      "[0, 0, 100]\n",
      "[0, 0, 100]\n",
      "The distances between  [0, 0, 100]  and  [1 5 6 'M']  is  3\n",
      " and the label is M\n",
      "[0, 0, 100]\n",
      "[0, 0, 100]\n",
      "[0, 0, 100]\n",
      "The distances between  [0, 0, 100]  and  [1 4 1 'M']  is  3\n",
      " and the label is M\n",
      "[0, 0, 100]\n",
      "[0, 0, 100]\n",
      "[0, 0, 100]\n",
      "The distances between  [0, 0, 100]  and  [2 22 2 'F']  is  3\n",
      " and the label is F\n",
      "[0, 0, 100]\n",
      "[0, 0, 100]\n",
      "[0, 0, 100]\n",
      "The distances between  [0, 0, 100]  and  [2 23 2 'M']  is  3\n",
      " and the label is M\n",
      "[0, 0, 100]\n",
      "[0, 0, 100]\n",
      "[0, 0, 100]\n",
      "The distances between  [0, 0, 100]  and  [2 24 2 'M']  is  3\n",
      " and the label is M\n",
      "\n",
      "Manhattan distances\n",
      "The distances between  [0, 0, 100]  and  [0 1 2 'F']  is  99.0\n",
      " and the label is F\n",
      "The distances between  [0, 0, 100]  and  [1 5 6 'F']  is  100.0\n",
      " and the label is F\n",
      "The distances between  [0, 0, 100]  and  [1 40 1 'M']  is  140.0\n",
      " and the label is M\n",
      "The distances between  [0, 0, 100]  and  [2 2 2 'F']  is  102.0\n",
      " and the label is F\n",
      "The distances between  [0, 0, 100]  and  [0 1 20 'M']  is  81.0\n",
      " and the label is M\n",
      "The distances between  [0, 0, 100]  and  [1 5 6 'M']  is  100.0\n",
      " and the label is M\n",
      "The distances between  [0, 0, 100]  and  [1 4 1 'M']  is  104.0\n",
      " and the label is M\n",
      "The distances between  [0, 0, 100]  and  [2 22 2 'F']  is  122.0\n",
      " and the label is F\n",
      "The distances between  [0, 0, 100]  and  [2 23 2 'M']  is  123.0\n",
      " and the label is M\n",
      "The distances between  [0, 0, 100]  and  [2 24 2 'M']  is  124.0\n",
      " and the label is M\n"
     ]
    }
   ],
   "source": [
    "print(\"Hamming distances\")\n",
    "def generate_hamming_distances(point, data, p): #Generate the distances for this point with each vector in the dataset\n",
    "    distances = [] # list of distances, will hold objects of type distClass\n",
    "    for vector in data: # Loop through every single vector in database  \n",
    "        d=hamming_distance(point,vector,len(vector)-1) # calculate the distance between the vector at database[i] and \"point\"\n",
    "        label=vector[-1] # Grab the label of the vector\n",
    "        if p==0:\n",
    "            print(\"The distances between \" , point , \" and \" , vector,  \" is \" , str(d))\n",
    "            print(\" and the label is \" + label)\n",
    "        obj = distClass() #one record's distance and tag\n",
    "        obj.dist=d\n",
    "        obj.tag=label\n",
    "        distances.append(obj)\n",
    "    distances.sort(key=lambda x: x.dist) #Sort and return the hamming distance array\n",
    "    return distances\n",
    "    \n",
    "hammingDist= generate_hamming_distances(point, dataset,0)\n",
    "\n",
    "print(\"\\nManhattan distances\")\n",
    "def generate_mahattan_distances(point, data,p): #Generate the distances for this point with each vector in the dataset\n",
    "    distances = [] # list of distances, will hold objects of type distClass\n",
    "    for vector in data: # Loop through every single vector in database  \n",
    "        d=manhattan_distance(point,vector,len(vector)-1) # calculate the distance between the vector at database[i] and \"point\"\n",
    "        label=vector[-1] # Grab the label of the vector\n",
    "        if p==0:\n",
    "            print(\"The distances between \" , point , \" and \" , vector,  \" is \" , str(d))\n",
    "            print(\" and the label is \" + label)\n",
    "        obj = distClass() #one record's distance and tag\n",
    "        obj.dist=d\n",
    "        obj.tag=label\n",
    "        distances.append(obj)\n",
    "    distances.sort(key=lambda x: x.dist) #Sort and return the hamming distance array\n",
    "    return distances\n",
    "    \n",
    "manhattanDist= generate_mahattan_distances(point, dataset,0)"
   ]
  },
  {
   "cell_type": "code",
   "execution_count": 26,
   "id": "2db0e117-bb55-48e3-b421-31659e3667a7",
   "metadata": {},
   "outputs": [],
   "source": [
    "manhattanDist.sort(key=lambda x: x.dist) #Sort the arrays\n",
    "hammingDist.sort(key=lambda x: x.dist)"
   ]
  },
  {
   "cell_type": "code",
   "execution_count": 16,
   "id": "15542fee-ea59-4d19-afca-bc1014330557",
   "metadata": {},
   "outputs": [
    {
     "name": "stdout",
     "output_type": "stream",
     "text": [
      "Using hamming distance, the label for point is F if k=1\n",
      "Using hamming distance, the label for point is F if k=3\n",
      "Using manhattan distance, the label for point is M if k=1\n",
      "Using manhattan distance, the label for point is F if k=3\n"
     ]
    }
   ],
   "source": [
    "print(f\"Using hamming distance, the label for point is {determine_tag(hammingDist,1)} if k=1\")\n",
    "print(f\"Using hamming distance, the label for point is {determine_tag(hammingDist,3)} if k=3\") #With hamming distance it can be either M or F so the program just returns the label that happens to be next\n",
    "\n",
    "print(f\"Using manhattan distance, the label for point is {determine_tag(manhattanDist,1)} if k=1\")\n",
    "print(f\"Using manhattan distance, the label for point is {determine_tag(manhattanDist,3)} if k=3\")"
   ]
  },
  {
   "cell_type": "markdown",
   "id": "75fa268c-8c44-4954-af58-64562638a826",
   "metadata": {},
   "source": [
    "Up until here is a simplified version of the homework. Below here is the work for the part we will be checking as the basis of your grade:"
   ]
  },
  {
   "cell_type": "markdown",
   "id": "e2032ec0-15e1-42bc-a867-cb4df304b57a",
   "metadata": {},
   "source": [
    "Now let's look at some bigger files:\n",
    "\n",
    "mytrain.csv (for training the model)\n",
    "mytest.csv (for testing)"
   ]
  },
  {
   "cell_type": "code",
   "execution_count": 17,
   "id": "a9a3b078-9950-4bc7-8272-a195f12c58e1",
   "metadata": {},
   "outputs": [
    {
     "name": "stderr",
     "output_type": "stream",
     "text": [
      "C:\\Users\\eohay\\AppData\\Local\\Temp\\ipykernel_14256\\3800603745.py:2: FutureWarning: The error_bad_lines argument has been deprecated and will be removed in a future version. Use on_bad_lines in the future.\n",
      "\n",
      "\n",
      "  train_data = np.array(pd.read_csv(url,  header=0, error_bad_lines=False))\n",
      "C:\\Users\\eohay\\AppData\\Local\\Temp\\ipykernel_14256\\3800603745.py:4: FutureWarning: The error_bad_lines argument has been deprecated and will be removed in a future version. Use on_bad_lines in the future.\n",
      "\n",
      "\n",
      "  test_data = np.array(pd.read_csv(url,  header=0, error_bad_lines=False))\n"
     ]
    }
   ],
   "source": [
    "url = 'https://github.com/rosenfa/ai/blob/master/mytrain.csv?raw=true'\n",
    "train_data = np.array(pd.read_csv(url,  header=0, error_bad_lines=False))\n",
    "url = 'https://github.com/rosenfa/ai/blob/master/mytest.csv?raw=true'\n",
    "test_data = np.array(pd.read_csv(url,  header=0, error_bad_lines=False))"
   ]
  },
  {
   "cell_type": "code",
   "execution_count": 18,
   "id": "e90dd514-a35a-45fc-863c-8f2e0bfa1f0d",
   "metadata": {},
   "outputs": [
    {
     "name": "stdout",
     "output_type": "stream",
     "text": [
      "(100, 30)\n",
      "[[0.317251 0.540016 0.150514 ... 0.0 0.212007 'F']\n",
      " [3.882181 0.0 0.0 ... 0.0 0.0 'F']\n",
      " [1.790708 0.0 0.0 ... 0.0 0.0 'F']\n",
      " ...\n",
      " [0.0 0.0 0.0 ... 0.0 0.0 'M']\n",
      " [0.0 0.0 0.0 ... 0.0 0.0 'M']\n",
      " [0.0 0.0 0.0 ... 0.0 0.0 'F']]\n"
     ]
    }
   ],
   "source": [
    "print(train_data.shape)# number of records and features\n",
    "print(train_data)"
   ]
  },
  {
   "cell_type": "code",
   "execution_count": 19,
   "id": "9037c2a9-f64f-4c35-a302-dd8e89027d28",
   "metadata": {},
   "outputs": [
    {
     "name": "stdout",
     "output_type": "stream",
     "text": [
      "(100, 30)\n",
      "[[2.85985 0.66275 0.0 ... 0.995289 0.0 'F']\n",
      " [0.0 12.998726 0.0 ... 0.0 0.0 'F']\n",
      " [13.231318 0.0 0.0 ... 0.0 0.0 'F']\n",
      " ...\n",
      " [0.0 0.0 0.0 ... 0.0 0.0 'M']\n",
      " [1.688611 0.0 3.204529 ... 0.0 0.0 'M']\n",
      " [0.0 0.0 0.0 ... 0.0 0.0 'M']]\n"
     ]
    }
   ],
   "source": [
    "print(test_data.shape)# number of records and features\n",
    "print(test_data)"
   ]
  },
  {
   "cell_type": "markdown",
   "id": "c93d29da-7951-45a3-8daa-836bffee6df2",
   "metadata": {},
   "source": [
    "I hope by now you understand where we are going with this :)\n",
    "\n",
    "Now implement the knn code with 3 different values for k:\n",
    "\n",
    "k = 1\n",
    "k = 7\n",
    "k = 15\n",
    "and at first use the Euclidean distance. Classify each of the vectors in the test_data dataset using the training data from train_data. Which value for k gave the best accuracy? What accuracy did it give you?\n",
    "\n",
    "Now see if using Hamming or Manhattan distance give any better results for the same values of k.\n",
    "\n",
    "Once you are done, you should have a total of 9 different results:\n",
    "\n",
    "Three accuracy results for the different value of k using the Euclidean Distance\n",
    "Three accuracy results for the different value of k using the Hamming Distance\n",
    "Three accuracy results for the different value of k using the Manhattan Distance\n",
    "Hint: I strongly suggest you base yourself on the code you've seen until this point so you don't have to reinvent the wheel!"
   ]
  },
  {
   "cell_type": "code",
   "execution_count": 20,
   "id": "9f3238bd-4934-47aa-970d-c276713c5536",
   "metadata": {},
   "outputs": [
    {
     "name": "stdout",
     "output_type": "stream",
     "text": [
      "Using Euclidean Distance when k=1 the model has an accuracy of 50.0%\n",
      "Using Euclidean Distance when k=7 the model has an accuracy of 74.0%\n",
      "Using Euclidean Distance when k=15 the model has an accuracy of 70.0%\n",
      "\n",
      "For Euclidean distance the most accurate was when k=7 with 74.0% which somewhat accurate\n"
     ]
    }
   ],
   "source": [
    "# For Euclidean Distance:\n",
    "euclideanDistances=[] #Data structure to store nearest neighbors for each vector in test data\n",
    "for test_vector in test_data: # For every vector in the test data generate the euclidean test from it to every vector in the train data\n",
    "    euclideanDistances.append(generate_euclidean_distances(test_vector, train_data,1))\n",
    "\n",
    "def generate_classification(test_data_distances, k): # Classify every vector in test_data_distances and return an array representing the classifications \n",
    "    classifications=[]\n",
    "    for distances in test_data_distances: # Loop accross all vectors and classify them based on neighbors\n",
    "        classifications.append(determine_tag(distances,k))\n",
    "    return classifications\n",
    "\n",
    "def determine_accuracy(classifications, test_data): # Determine the accuracy of the model\n",
    "    correct_classification=[x[-1] for x in test_data] #generate a list corresponding to the correct classification\n",
    "    score=0 # store how many times we are correct\n",
    "    \n",
    "    for guess,correct in zip(classifications,correct_classification): #Check for accuracy by comparing the proposed classification with true classification\n",
    "        if guess==correct:\n",
    "            score+=1\n",
    "    # We can get the accuracy by determining the ratio of correct classification to total classifications\n",
    "    # We get this by doing # of times correct/ total guesses\n",
    "    # Where len(classifications) is the total number of classifications and correct is hwo many times we guessed correctly\n",
    "    return score/len(classifications) * 100\n",
    "    \n",
    " # classification of vectors in test_data where classification[0] is the classification of test_data[0]\n",
    "\n",
    "classfication_1n=generate_classification(euclideanDistances,1) # classification when k=1\n",
    "print(f\"Using Euclidean Distance when k=1 the model has an accuracy of {determine_accuracy(classfication_1n,test_data)}%\")\n",
    "\n",
    "classfication_7n=generate_classification(euclideanDistances,7) # classification when k=7\n",
    "print(f\"Using Euclidean Distance when k=7 the model has an accuracy of {determine_accuracy(classfication_7n,test_data)}%\")\n",
    "\n",
    "classfication_15n=generate_classification(euclideanDistances,15) # classification when k=15\n",
    "print(f\"Using Euclidean Distance when k=15 the model has an accuracy of {determine_accuracy(classfication_15n,test_data)}%\")\n",
    "\n",
    "print(\"\\nFor Euclidean distance the most accurate was when k=7 with 74.0% which somewhat accurate\")\n",
    "    "
   ]
  },
  {
   "cell_type": "code",
   "execution_count": 21,
   "id": "b6373966-7619-4b73-840d-87913eae7ae1",
   "metadata": {},
   "outputs": [
    {
     "name": "stdout",
     "output_type": "stream",
     "text": [
      "Using Manhattan Distance when k=1 the model has an accuracy of 61.0%\n",
      "Using Manhattan Distance when k=7 the model has an accuracy of 63.0%\n",
      "Using Manhattan Distance when k=15 the model has an accuracy of 69.0%\n",
      "\n",
      "For Manhattan distance the most accurate was when k=7 with 69.0% which is not very accurate\n"
     ]
    }
   ],
   "source": [
    "# For Manhattan Distance\n",
    "manhattanDistances=[] #Data structure to store nearest neighbors for each vector in test data\n",
    "for test_vector in test_data:\n",
    "    manhattanDistances.append(generate_mahattan_distances(test_vector,train_data,1))\n",
    "    \n",
    "classfication_1n=generate_classification(manhattanDistances,1) # classification when k=1\n",
    "print(f\"Using Manhattan Distance when k=1 the model has an accuracy of {determine_accuracy(classfication_1n,test_data)}%\")\n",
    "\n",
    "classfication_7n=generate_classification(manhattanDistances,7) # classification when k=7\n",
    "print(f\"Using Manhattan Distance when k=7 the model has an accuracy of {determine_accuracy(classfication_7n,test_data)}%\")\n",
    "\n",
    "classfication_15n=generate_classification(manhattanDistances,15) # classification when k=15\n",
    "print(f\"Using Manhattan Distance when k=15 the model has an accuracy of {determine_accuracy(classfication_15n,test_data)}%\")\n",
    "\n",
    "print(\"\\nFor Manhattan distance the most accurate was when k=7 with 69.0% which is not very accurate\")\n",
    "    "
   ]
  },
  {
   "cell_type": "code",
   "execution_count": 22,
   "id": "f3f90d1d-8afa-4991-993b-622f9550ae8e",
   "metadata": {},
   "outputs": [
    {
     "name": "stdout",
     "output_type": "stream",
     "text": [
      "Using Hamming Distance when k=1 the model has an accuracy of 61.0%\n",
      "Using Hamming Distance when k=7 the model has an accuracy of 55.00000000000001%\n",
      "Using Hamming Distance when k=15 the model has an accuracy of 56.99999999999999%\n",
      "\n",
      "Hamming distance was the most accurate when k=1 with 61.0% accuracy\n"
     ]
    }
   ],
   "source": [
    "# For hamming Distance\n",
    "hammingDistances=[] #Data structure to store nearest neighbors for each vector in test data\n",
    "for test_vector in test_data:\n",
    "    hammingDistances.append(generate_hamming_distances(test_vector, train_data,1))\n",
    "    \n",
    "    \n",
    "classfication_1n=generate_classification(hammingDistances,1) # classification when k=1\n",
    "print(f\"Using Hamming Distance when k=1 the model has an accuracy of {determine_accuracy(classfication_1n,test_data)}%\")\n",
    "\n",
    "classfication_7n=generate_classification(hammingDistances,7) # classification when k=7\n",
    "print(f\"Using Hamming Distance when k=7 the model has an accuracy of {determine_accuracy(classfication_7n,test_data)}%\")\n",
    "\n",
    "classfication_15n=generate_classification(hammingDistances,15) # classification when k=15\n",
    "print(f\"Using Hamming Distance when k=15 the model has an accuracy of {determine_accuracy(classfication_15n,test_data)}%\")\n",
    "\n",
    "print(\"\\nHamming distance was the most accurate when k=1 with 61.0% accuracy\")\n",
    "    "
   ]
  },
  {
   "cell_type": "markdown",
   "id": "2cbbec7c-27bc-4c25-af42-1b7cf0cf1a7d",
   "metadata": {},
   "source": [
    "In the end, the most accurate was the Euclidean Distance of k=7 with 74% accuracy. K=7 was the best nearest neighbors as with 1 neighbor the sample set is too small and with k=15 it is too large and could lead to overfitting"
   ]
  }
 ],
 "metadata": {
  "kernelspec": {
   "display_name": "Python 3 (ipykernel)",
   "language": "python",
   "name": "python3"
  },
  "language_info": {
   "codemirror_mode": {
    "name": "ipython",
    "version": 3
   },
   "file_extension": ".py",
   "mimetype": "text/x-python",
   "name": "python",
   "nbconvert_exporter": "python",
   "pygments_lexer": "ipython3",
   "version": "3.10.2"
  }
 },
 "nbformat": 4,
 "nbformat_minor": 5
}
